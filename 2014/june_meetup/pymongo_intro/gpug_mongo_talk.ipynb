{
 "metadata": {
  "celltoolbar": "Slideshow",
  "name": "",
  "signature": "sha256:22cbcd18a900e84bce347a2e5c992b351189b968ca8202c0c77b17e3c393aeb2"
 },
 "nbformat": 3,
 "nbformat_minor": 0,
 "worksheets": [
  {
   "cells": [
    {
     "cell_type": "markdown",
     "metadata": {
      "slideshow": {
       "slide_type": "slide"
      }
     },
     "source": [
      "# `whoami`\n",
      "\n",
      "<pre><code class=\"bash\">$ getent passwd $(whoami)\n",
      "walter:x:1000:1000:Walter Leibbrandt:/home/walter:/usr/bin/zsh\n",
      "$ id | tr , '\\n'\n",
      "uid=1000(walter) gid=1000(walter) groups=1000(walter)\n",
      "1001(csir)\n",
      "1002(pentesters)\n",
      "1003(gpug)\n",
      "1004(pythonistas)\n",
      "1005(linuxusers)\n",
      "1006(mongonoobs)</code></pre>"
     ]
    },
    {
     "cell_type": "markdown",
     "metadata": {
      "slideshow": {
       "slide_type": "slide"
      }
     },
     "source": [
      "![](res/img/MongoDB.png)\n",
      "\n",
      "> mongodb (from \"hu**mongo**us\") is an open-source document database, and the leading nosql database."
     ]
    },
    {
     "cell_type": "markdown",
     "metadata": {
      "slideshow": {
       "slide_type": "fragment"
      }
     },
     "source": [
      "*(examples unrepentently stolen from the [mongodb docs](http://docs.mongodb.org/manual/))*"
     ]
    },
    {
     "cell_type": "markdown",
     "metadata": {
      "slideshow": {
       "slide_type": "slide"
      }
     },
     "source": [
      "#Features\n",
      "  \n",
      "  +  document-oriented storage\n",
      "  +  querying\n",
      "  +  fast in-place updates\n",
      "  +  map/reduce & aggregation\n",
      "  +  full index support\n",
      "  +  replication & high availability\n",
      "  +  auto-sharding\n",
      "  +  gridfs\n",
      "  +  mongodb management service"
     ]
    },
    {
     "cell_type": "markdown",
     "metadata": {
      "slideshow": {
       "slide_type": "slide"
      }
     },
     "source": [
      "# Terminology\n",
      "\n",
      "<table>\n",
      "\t<tr><th>sql</th>           <th>mongodb</th></tr>\n",
      "\t<tr><td>`database`</td>    <td>`database`</td></tr>\n",
      "\t<tr><td>`table`</td>       <td>`collection`</td></tr>\n",
      "\t<tr><td>`row`</td>         <td>(bson) `document`</td></tr>\n",
      "\t<tr><td>`column`</td>      <td>`field`</td></tr>\n",
      "\t<tr><td>`table joins`</td> <td>`embedded documents` or `linking`</td></tr>\n",
      "</table>\n"
     ]
    },
    {
     "cell_type": "markdown",
     "metadata": {
      "slideshow": {
       "slide_type": "slide"
      }
     },
     "source": [
      "# Documents\n",
      "\n",
      "![](res/img/crud-annotated-document.png)"
     ]
    },
    {
     "cell_type": "markdown",
     "metadata": {
      "slideshow": {
       "slide_type": "fragment"
      }
     },
     "source": [
      "* json structure\n",
      "\n",
      "* nested fields"
     ]
    },
    {
     "cell_type": "markdown",
     "metadata": {
      "slideshow": {
       "slide_type": "slide"
      }
     },
     "source": [
      "# Collections\n",
      "\n",
      "![](res/img/crud-annotated-collection.png)"
     ]
    },
    {
     "cell_type": "markdown",
     "metadata": {
      "slideshow": {
       "slide_type": "fragment"
      }
     },
     "source": [
      "* collections (and databases) are created on the fly"
     ]
    },
    {
     "cell_type": "markdown",
     "metadata": {
      "slideshow": {
       "slide_type": "slide"
      }
     },
     "source": [
      "# CRUD Operations in MongoDB"
     ]
    },
    {
     "cell_type": "markdown",
     "metadata": {
      "slideshow": {
       "slide_type": "fragment"
      }
     },
     "source": [
      "**c**reate\n",
      "\n",
      "**r**ead\n",
      "\n",
      "**u**pdate\n",
      "\n",
      "**d**elete"
     ]
    },
    {
     "cell_type": "markdown",
     "metadata": {
      "slideshow": {
       "slide_type": "slide"
      }
     },
     "source": [
      "## Create\n",
      "\n",
      "sql: ![](res/img/crud-annotated-sql-insert.png)"
     ]
    },
    {
     "cell_type": "markdown",
     "metadata": {
      "slideshow": {
       "slide_type": "fragment"
      }
     },
     "source": [
      "mongodb: ![](res/img/crud-annotated-mongodb-insert.png)"
     ]
    },
    {
     "cell_type": "markdown",
     "metadata": {
      "slideshow": {
       "slide_type": "slide"
      }
     },
     "source": [
      "## Read\n",
      "\n",
      "sql: ![](res/img/crud-annotated-sql-select.png)"
     ]
    },
    {
     "cell_type": "markdown",
     "metadata": {
      "slideshow": {
       "slide_type": "fragment"
      }
     },
     "source": [
      "mongodb: ![](res/img/crud-annotated-mongodb-find.png)"
     ]
    },
    {
     "cell_type": "markdown",
     "metadata": {
      "slideshow": {
       "slide_type": "slide"
      }
     },
     "source": [
      "## Update\n",
      "\n",
      "sql: ![](res/img/crud-annotated-sql-update.png)"
     ]
    },
    {
     "cell_type": "markdown",
     "metadata": {
      "slideshow": {
       "slide_type": "fragment"
      }
     },
     "source": [
      "mongodb: ![](res/img/crud-annotated-mongodb-update.png)"
     ]
    },
    {
     "cell_type": "markdown",
     "metadata": {
      "slideshow": {
       "slide_type": "slide"
      }
     },
     "source": [
      "## Delete\n",
      "\n",
      "sql: ![](res/img/crud-annotated-sql-delete.png)"
     ]
    },
    {
     "cell_type": "markdown",
     "metadata": {
      "slideshow": {
       "slide_type": "fragment"
      }
     },
     "source": [
      "mongodb: ![](res/img/crud-annotated-mongodb-remove.png)"
     ]
    },
    {
     "cell_type": "markdown",
     "metadata": {
      "slideshow": {
       "slide_type": "slide"
      }
     },
     "source": [
      "# More query examples"
     ]
    },
    {
     "cell_type": "markdown",
     "metadata": {
      "slideshow": {
       "slide_type": "subslide"
      }
     },
     "source": [
      "## Create collection\n",
      "\n",
      "implicitly created on first `insert()` operation, or:\n",
      "\n",
      "<pre><code class=\"javascript\">db.createCollection(\"users\")</code></pre>"
     ]
    },
    {
     "cell_type": "markdown",
     "metadata": {
      "slideshow": {
       "slide_type": "subslide"
      }
     },
     "source": [
      "## Add field to collection\n",
      "\n",
      "`update()` operations can add fields to existing documents using the `$set` operator\n",
      "\n",
      "<pre><code class=\"javascript\">db.users.update(\n",
      "    { },\n",
      "    { $set: { join_date: new Date() } },\n",
      "    { multi: true }\n",
      ")</code></pre>"
     ]
    },
    {
     "cell_type": "markdown",
     "metadata": {
      "slideshow": {
       "slide_type": "subslide"
      }
     },
     "source": [
      "## Drop field from collection\n",
      "\n",
      "`update()` operations can remove fields from documents using the `$unset` operator\n",
      "\n",
      "<pre><code class=\"javascript\">db.users.update(\n",
      "    { },\n",
      "    { $unset: { join_date: \"\" } },\n",
      "    { multi: true }\n",
      ")</code></pre>"
     ]
    },
    {
     "cell_type": "markdown",
     "metadata": {
      "slideshow": {
       "slide_type": "subslide"
      }
     },
     "source": [
      "## Create index\n",
      "\n",
      "an index on the `user_id` field (ascending) and `age` field (descending):\n",
      "\n",
      "<pre><code class=\"javascript\">db.users.ensureIndex( { user_id: 1,\n",
      "                        age: -1 } )</code></pre>"
     ]
    },
    {
     "cell_type": "markdown",
     "metadata": {
      "slideshow": {
       "slide_type": "subslide"
      }
     },
     "source": [
      "## Drop a collection\n",
      "\n",
      "<code language=\"javascript\">db.users.drop()</code>"
     ]
    },
    {
     "cell_type": "markdown",
     "metadata": {
      "slideshow": {
       "slide_type": "subslide"
      }
     },
     "source": [
      "## Select - All\n",
      "\n",
      "sql:\n",
      "\n",
      "    SELECT * FROM users\n",
      "\n",
      "mongodb:\n",
      "\n",
      "<pre><code class=\"javascript\">db.users.find()</code></pre>"
     ]
    },
    {
     "cell_type": "markdown",
     "metadata": {
      "slideshow": {
       "slide_type": "subslide"
      }
     },
     "source": [
      "## Select - Specific fields\n",
      "\n",
      "sql:\n",
      "\n",
      "    SELECT id, user_id, status\n",
      "    FROM users\n",
      "\n",
      "mongodb:\n",
      "\n",
      "<pre><code class=\"javascript\">db.users.find(\n",
      "    { },\n",
      "    { user_id: 1, status: 1 }\n",
      ")</code></pre>"
     ]
    },
    {
     "cell_type": "markdown",
     "metadata": {
      "slideshow": {
       "slide_type": "subslide"
      }
     },
     "source": [
      "## Select - `!=`\n",
      "\n",
      "sql:\n",
      "\n",
      "    SELECT *\n",
      "    FROM users\n",
      "    WHERE status != \"A\"\n",
      "\n",
      "mongodb:\n",
      "\n",
      "<pre><code class=\"javascript\">db.users.find(\n",
      "    { status: { $ne: \"A\" } }\n",
      ")</code></pre>"
     ]
    },
    {
     "cell_type": "markdown",
     "metadata": {
      "slideshow": {
       "slide_type": "subslide"
      }
     },
     "source": [
      "## Select - AND\n",
      "\n",
      "sql:\n",
      "\n",
      "    SELECT *\n",
      "    FROM users\n",
      "    WHERE status = \"A\" AND age = 50\n",
      "\n",
      "mongodb:\n",
      "\n",
      "<pre><code class=\"javascript\">db.users.find(\n",
      "    { status: \"A\", age: 50 }\n",
      ")</code></pre>"
     ]
    },
    {
     "cell_type": "markdown",
     "metadata": {
      "slideshow": {
       "slide_type": "subslide"
      }
     },
     "source": [
      "## Select - OR\n",
      "\n",
      "sql:\n",
      "\n",
      "    SELECT *\n",
      "    FROM users\n",
      "    WHERE status = \"A\" OR age = 50`\n",
      "\n",
      "mongodb:\n",
      "\n",
      "<pre><code class=\"javascript\">db.users.find(\n",
      "    { $or: [ { status: \"A\" },\n",
      "             { age: 50 } ] }\n",
      ")</code></pre>"
     ]
    },
    {
     "cell_type": "markdown",
     "metadata": {
      "slideshow": {
       "slide_type": "subslide"
      }
     },
     "source": [
      "## Select - `>`\n",
      "\n",
      "sql:\n",
      "\n",
      "    SELECT *\n",
      "    FROM users\n",
      "    WHERE age > 25\n",
      "\n",
      "mongodb:\n",
      "\n",
      "<pre><code class=\"javascript\">db.users.find(\n",
      "    { age: { $gt: 25 } }\n",
      ")</code></pre>"
     ]
    },
    {
     "cell_type": "markdown",
     "metadata": {
      "slideshow": {
       "slide_type": "subslide"
      }
     },
     "source": [
      "## Select - `LIKE`\n",
      "\n",
      "sql:\n",
      "\n",
      "    SELECT *\n",
      "    FROM users\n",
      "    WHERE user_id LIKE \"%bc%\"\n",
      "\n",
      "mongodb:\n",
      "\n",
      "<pre><code class=\"javascript\">db.users.find( { user_id: /bc/ } )</code></pre>\n",
      "\n",
      "* regex! :D"
     ]
    },
    {
     "cell_type": "markdown",
     "metadata": {
      "slideshow": {
       "slide_type": "subslide"
      }
     },
     "source": [
      "## Select - `ORDER BY`\n",
      "\n",
      "sql:\n",
      "    \n",
      "    SELECT *\n",
      "    FROM users\n",
      "    WHERE status = \"A\"\n",
      "    ORDER BY user_id DESC\n",
      "\n",
      "mongodb:\n",
      "\n",
      "<pre><code class=\"javascript\">db.users.find( { status: \"A\" } )\n",
      "        .sort( { user_id: -1 } )</code></pre>"
     ]
    },
    {
     "cell_type": "markdown",
     "metadata": {
      "slideshow": {
       "slide_type": "subslide"
      }
     },
     "source": [
      "## Select - `COUNT`\n",
      "\n",
      "sql:\n",
      "\n",
      "    SELECT COUNT(*)\n",
      "    FROM users\n",
      "\n",
      "mongodb:\n",
      "\n",
      "<pre><code class=\"javascript\">db.users.count()</code></pre>\n",
      "    \n",
      "or\n",
      "\n",
      "<pre><code class=\"javascript\">db.users.find().count()</code></pre>"
     ]
    },
    {
     "cell_type": "markdown",
     "metadata": {
      "slideshow": {
       "slide_type": "subslide"
      }
     },
     "source": [
      "## Select - `DISTINCT`\n",
      "\n",
      "sql:\n",
      "\n",
      "    SELECT DISTINCT(status)\n",
      "    FROM users\n",
      "\n",
      "mongodb:\n",
      "\n",
      "<pre><code class=\"javascript\">db.users.distinct(\"status\")</code></pre>"
     ]
    },
    {
     "cell_type": "markdown",
     "metadata": {
      "slideshow": {
       "slide_type": "subslide"
      }
     },
     "source": [
      "## Select - `LIMIT`\n",
      "\n",
      "sql:\n",
      "\n",
      "    SELECT *\n",
      "    FROM users\n",
      "    LIMIT 1\n",
      "\n",
      "\n",
      "mongodb:\n",
      "\n",
      "<pre><code class=\"javascript\">db.users.findOne()</code></pre>\n",
      "\n",
      "or\n",
      "\n",
      "<pre><code class=\"javascript\">db.users.find().limit(1)</code></pre>"
     ]
    },
    {
     "cell_type": "markdown",
     "metadata": {
      "slideshow": {
       "slide_type": "subslide"
      }
     },
     "source": [
      "## Update\n",
      "\n",
      "sql:\n",
      "\n",
      "    UPDATE users\n",
      "    SET status = \"C\"\n",
      "    WHERE age > 25\n",
      "\n",
      "mongodb:\n",
      "\n",
      "<pre><code class=\"javascript\">db.users.update(\n",
      "   { age: { $gt: 25 } },\n",
      "   { $set: { status: \"C\" } },\n",
      "   { multi: true }\n",
      ")</code></pre>"
     ]
    },
    {
     "cell_type": "markdown",
     "metadata": {
      "slideshow": {
       "slide_type": "subslide"
      }
     },
     "source": [
      "## Delete\n",
      "\n",
      "sql:\n",
      "\n",
      "    DELETE FROM users\n",
      "    WHERE status = \"D\"\n",
      "\n",
      "mongodb:\n",
      "\n",
      "<pre><code class=\"javascript\">db.users.remove( { status: \"D\" } )</code></pre>"
     ]
    },
    {
     "cell_type": "markdown",
     "metadata": {
      "slideshow": {
       "slide_type": "slide"
      }
     },
     "source": [
      "# Advantages\n",
      "\n",
      "*source: [stackoverflow question](https://stackoverflow.com/questions/2117372/what-are-the-advantages-of-using-a-schema-free-database-like-mongodb-compared-to)*"
     ]
    },
    {
     "cell_type": "markdown",
     "metadata": {
      "slideshow": {
       "slide_type": "fragment"
      }
     },
     "source": [
      "  * **document-based data model**\n",
      "\n",
      "    + think in documents\n",
      "    + read/write entire data structure at a time"
     ]
    },
    {
     "cell_type": "markdown",
     "metadata": {
      "slideshow": {
       "slide_type": "fragment"
      }
     },
     "source": [
      "  * **schemaless**\n",
      "\n",
      "    + no database migrations\n",
      "    + client code defines the schema."
     ]
    },
    {
     "cell_type": "markdown",
     "metadata": {
      "slideshow": {
       "slide_type": "fragment"
      }
     },
     "source": [
      "  * **horizontal scaling**\n",
      "\n",
      "    + sharding is easy"
     ]
    },
    {
     "cell_type": "markdown",
     "metadata": {
      "slideshow": {
       "slide_type": "slide"
      }
     },
     "source": [
      "# Disadvantages\n",
      "\n",
      "*source: [\"a year with mongodb\" - @mitsuhiko](https://speakerdeck.com/mitsuhiko/a-year-of-mongodb)*"
     ]
    },
    {
     "cell_type": "markdown",
     "metadata": {
      "slideshow": {
       "slide_type": "fragment"
      }
     },
     "source": [
      "  * **document-based data model**\n",
      "    + thinking in documents is hard\n",
      "    + all operations are on whole documents"
     ]
    },
    {
     "cell_type": "markdown",
     "metadata": {
      "slideshow": {
       "slide_type": "fragment"
      }
     },
     "source": [
      "  * **no transaction support**"
     ]
    },
    {
     "cell_type": "markdown",
     "metadata": {
      "slideshow": {
       "slide_type": "fragment"
      }
     },
     "source": [
      "  * **performance issues**"
     ]
    },
    {
     "cell_type": "markdown",
     "metadata": {
      "slideshow": {
       "slide_type": "slide"
      }
     },
     "source": [
      "# There is no silver bullet\n",
      "\n",
      "mongodb is *not* a sql db; don't try to use it as one."
     ]
    },
    {
     "cell_type": "markdown",
     "metadata": {
      "slideshow": {
       "slide_type": "slide"
      }
     },
     "source": [
      "# \"... But we're here for Python!\""
     ]
    },
    {
     "cell_type": "markdown",
     "metadata": {
      "slideshow": {
       "slide_type": "slide"
      }
     },
     "source": [
      "# PyMongo\n",
      "\n",
      "*source: [pymongo docs](http://api.mongodb.org/python/current/index.html)*\n",
      "\n",
      "connecting:"
     ]
    },
    {
     "cell_type": "code",
     "collapsed": false,
     "input": [
      "from pymongo import MongoClient\n",
      "\n",
      "client = MongoClient()\n",
      "db = client.blog\n",
      "collection = db.posts"
     ],
     "language": "python",
     "metadata": {
      "slideshow": {
       "slide_type": "-"
      }
     },
     "outputs": [],
     "prompt_number": 1
    },
    {
     "cell_type": "code",
     "collapsed": false,
     "input": [
      "print collection\n",
      "print db.collection_names()"
     ],
     "language": "python",
     "metadata": {
      "slideshow": {
       "slide_type": "slide"
      }
     },
     "outputs": [
      {
       "output_type": "stream",
       "stream": "stdout",
       "text": [
        "Collection(Database(MongoClient('localhost', 27017), u'blog'), u'posts')\n",
        "[]\n"
       ]
      }
     ],
     "prompt_number": 2
    },
    {
     "cell_type": "markdown",
     "metadata": {
      "slideshow": {
       "slide_type": "fragment"
      }
     },
     "source": [
      "* no `posts` collection"
     ]
    },
    {
     "cell_type": "markdown",
     "metadata": {
      "slideshow": {
       "slide_type": "slide"
      }
     },
     "source": [
      "## Create\n",
      "\n",
      "*insert a blog post*"
     ]
    },
    {
     "cell_type": "code",
     "collapsed": false,
     "input": [
      "from datetime import datetime\n",
      "\n",
      "post = {\n",
      "    u'author': u'Mike',\n",
      "    u'text': u'My first blog post!',\n",
      "    u'tags': [u'mongodb', u'python'],\n",
      "    u'date': datetime.utcnow()\n",
      "}\n",
      "db.posts.insert(post)"
     ],
     "language": "python",
     "metadata": {
      "slideshow": {
       "slide_type": "-"
      }
     },
     "outputs": [
      {
       "metadata": {},
       "output_type": "pyout",
       "prompt_number": 3,
       "text": [
        "ObjectId('53ab66a61df3b72e51fabf61')"
       ]
      }
     ],
     "prompt_number": 3
    },
    {
     "cell_type": "markdown",
     "metadata": {
      "slideshow": {
       "slide_type": "fragment"
      }
     },
     "source": [
      "* `datetime` support! :D"
     ]
    },
    {
     "cell_type": "code",
     "collapsed": false,
     "input": [
      "print db.collection_names()"
     ],
     "language": "python",
     "metadata": {
      "slideshow": {
       "slide_type": "slide"
      }
     },
     "outputs": [
      {
       "output_type": "stream",
       "stream": "stdout",
       "text": [
        "[u'system.indexes', u'posts']\n"
       ]
      }
     ],
     "prompt_number": 4
    },
    {
     "cell_type": "markdown",
     "metadata": {
      "slideshow": {
       "slide_type": "fragment"
      }
     },
     "source": [
      "* a wild `posts` collection appeared!"
     ]
    },
    {
     "cell_type": "markdown",
     "metadata": {
      "slideshow": {
       "slide_type": "slide"
      }
     },
     "source": [
      "## Create\n",
      "\n",
      "*insert another*"
     ]
    },
    {
     "cell_type": "code",
     "collapsed": false,
     "input": [
      "from datetime import datetime\n",
      "\n",
      "db.posts.insert({\n",
      "    u'author': u'Anna',\n",
      "    u'text': u'No text O_O',\n",
      "    u'tags': [u'python', u'pymongo'],\n",
      "    u'date': datetime.utcnow()\n",
      "})"
     ],
     "language": "python",
     "metadata": {
      "slideshow": {
       "slide_type": "-"
      }
     },
     "outputs": [
      {
       "metadata": {},
       "output_type": "pyout",
       "prompt_number": 5,
       "text": [
        "ObjectId('53ab66a61df3b72e51fabf62')"
       ]
      }
     ],
     "prompt_number": 5
    },
    {
     "cell_type": "markdown",
     "metadata": {
      "slideshow": {
       "slide_type": "slide"
      }
     },
     "source": [
      "## Read\n",
      "\n",
      "*find a single post*"
     ]
    },
    {
     "cell_type": "code",
     "collapsed": false,
     "input": [
      "db.posts.find_one()"
     ],
     "language": "python",
     "metadata": {},
     "outputs": [
      {
       "metadata": {},
       "output_type": "pyout",
       "prompt_number": 6,
       "text": [
        "{u'_id': ObjectId('53ab66a61df3b72e51fabf61'),\n",
        " u'author': u'Mike',\n",
        " u'date': datetime.datetime(2014, 6, 26, 0, 17, 42, 807000),\n",
        " u'tags': [u'mongodb', u'python'],\n",
        " u'text': u'My first blog post!'}"
       ]
      }
     ],
     "prompt_number": 6
    },
    {
     "cell_type": "markdown",
     "metadata": {
      "slideshow": {
       "slide_type": "slide"
      }
     },
     "source": [
      "## Read\n",
      "\n",
      "*find posts with \"`python`\" tag; keep the \"`_id`\"*"
     ]
    },
    {
     "cell_type": "code",
     "collapsed": false,
     "input": [
      "list(db.posts.find(\n",
      "    { u'tags': u'python' },\n",
      "    { u'text': 1, u'_id': 0 }\n",
      "))"
     ],
     "language": "python",
     "metadata": {},
     "outputs": [
      {
       "metadata": {},
       "output_type": "pyout",
       "prompt_number": 7,
       "text": [
        "[{u'text': u'My first blog post!'}, {u'text': u'No text O_O'}]"
       ]
      }
     ],
     "prompt_number": 7
    },
    {
     "cell_type": "markdown",
     "metadata": {
      "slideshow": {
       "slide_type": "fragment"
      }
     },
     "source": [
      "* searching for tags are easy"
     ]
    },
    {
     "cell_type": "markdown",
     "metadata": {
      "slideshow": {
       "slide_type": "slide"
      }
     },
     "source": [
      "## Read\n",
      "\n",
      "*where text ends with \"`O_O`\"*"
     ]
    },
    {
     "cell_type": "code",
     "collapsed": false,
     "input": [
      "import re\n",
      "\n",
      "second_post = db.posts.find_one(\n",
      "    { u'text': re.compile(r'O_O$') }\n",
      ")\n",
      "second_post"
     ],
     "language": "python",
     "metadata": {},
     "outputs": [
      {
       "metadata": {},
       "output_type": "pyout",
       "prompt_number": 8,
       "text": [
        "{u'_id': ObjectId('53ab66a61df3b72e51fabf62'),\n",
        " u'author': u'Anna',\n",
        " u'date': datetime.datetime(2014, 6, 26, 0, 17, 42, 963000),\n",
        " u'tags': [u'python', u'pymongo'],\n",
        " u'text': u'No text O_O'}"
       ]
      }
     ],
     "prompt_number": 8
    },
    {
     "cell_type": "markdown",
     "metadata": {
      "slideshow": {
       "slide_type": "slide"
      }
     },
     "source": [
      "## Update\n",
      "\n",
      "*replace second post's text*"
     ]
    },
    {
     "cell_type": "code",
     "collapsed": false,
     "input": [
      "db.posts.update(\n",
      "    { u'_id': second_post[u'_id'] },\n",
      "    { '$set': {u'text': u'PyMongo is easy!'} }\n",
      ")"
     ],
     "language": "python",
     "metadata": {},
     "outputs": [
      {
       "metadata": {},
       "output_type": "pyout",
       "prompt_number": 9,
       "text": [
        "{u'connectionId': 34,\n",
        " u'err': None,\n",
        " u'n': 1,\n",
        " u'ok': 1.0,\n",
        " u'updatedExisting': True}"
       ]
      }
     ],
     "prompt_number": 9
    },
    {
     "cell_type": "markdown",
     "metadata": {
      "slideshow": {
       "slide_type": "slide"
      }
     },
     "source": [
      "## Delete\n",
      "\n",
      "*by id*"
     ]
    },
    {
     "cell_type": "code",
     "collapsed": false,
     "input": [
      "db.posts.remove(second_post[u'_id'])"
     ],
     "language": "python",
     "metadata": {},
     "outputs": [
      {
       "metadata": {},
       "output_type": "pyout",
       "prompt_number": 10,
       "text": [
        "{u'connectionId': 34, u'err': None, u'n': 1, u'ok': 1.0}"
       ]
      }
     ],
     "prompt_number": 10
    },
    {
     "cell_type": "markdown",
     "metadata": {
      "slideshow": {
       "slide_type": "slide"
      }
     },
     "source": [
      "## Delete\n",
      "\n",
      "*by search query*"
     ]
    },
    {
     "cell_type": "code",
     "collapsed": false,
     "input": [
      "db.posts.remove(\n",
      "    { u'author': u'Mike' },\n",
      "    multi=True\n",
      ")"
     ],
     "language": "python",
     "metadata": {},
     "outputs": [
      {
       "metadata": {},
       "output_type": "pyout",
       "prompt_number": 11,
       "text": [
        "{u'connectionId': 34, u'err': None, u'n': 1, u'ok': 1.0}"
       ]
      }
     ],
     "prompt_number": 11
    },
    {
     "cell_type": "markdown",
     "metadata": {
      "slideshow": {
       "slide_type": "slide"
      }
     },
     "source": [
      "# Moar magic!"
     ]
    },
    {
     "cell_type": "markdown",
     "metadata": {
      "slideshow": {
       "slide_type": "slide"
      }
     },
     "source": [
      "# MongoEngine\n",
      "\n",
      "*source: [mongoengine docs](http://docs.mongoengine.org/)*\n",
      "\n",
      "* \"orm\" for mongodb... an o**d**m!\n",
      "* python class => mongodb collection\n",
      "* python class instances => mongodb documents"
     ]
    },
    {
     "cell_type": "markdown",
     "metadata": {
      "slideshow": {
       "slide_type": "slide"
      }
     },
     "source": [
      "# MongoEngine\n",
      "\n",
      "connecting:"
     ]
    },
    {
     "cell_type": "code",
     "collapsed": false,
     "input": [
      "from mongoengine import *\n",
      "\n",
      "connect('blog')"
     ],
     "language": "python",
     "metadata": {},
     "outputs": [
      {
       "metadata": {},
       "output_type": "pyout",
       "prompt_number": 12,
       "text": [
        "MongoClient('localhost', 27017)"
       ]
      }
     ],
     "prompt_number": 12
    },
    {
     "cell_type": "markdown",
     "metadata": {
      "slideshow": {
       "slide_type": "slide"
      }
     },
     "source": [
      "## Models"
     ]
    },
    {
     "cell_type": "code",
     "collapsed": false,
     "input": [
      "class User(Document):\n",
      "    name = StringField(max_length=50)\n",
      "    enabled = BooleanField(default=True)\n",
      "\n",
      "class Post(Document):\n",
      "    title = StringField(required=True)\n",
      "    date = DateTimeField()\n",
      "    tags = ListField(StringField())\n",
      "    author = ReferenceField(User)\n",
      "    \n",
      "    meta = {'allow_inheritance': True}"
     ],
     "language": "python",
     "metadata": {},
     "outputs": [],
     "prompt_number": 13
    },
    {
     "cell_type": "markdown",
     "metadata": {
      "slideshow": {
       "slide_type": "fragment"
      }
     },
     "source": [
      "* list fields are easy\n",
      "\n",
      "* `Post` references `User`"
     ]
    },
    {
     "cell_type": "markdown",
     "metadata": {
      "slideshow": {
       "slide_type": "fragment"
      }
     },
     "source": [
      "* *\"allow_inheritance\"* wtf?"
     ]
    },
    {
     "cell_type": "markdown",
     "metadata": {
      "slideshow": {
       "slide_type": "slide"
      }
     },
     "source": [
      "## Models\n",
      "\n",
      "*sub-classes*"
     ]
    },
    {
     "cell_type": "code",
     "collapsed": false,
     "input": [
      "class TextPost(Post):\n",
      "    content = StringField()\n",
      "    \n",
      "class ImagePost(Post):\n",
      "    image_path = StringField()\n",
      "    \n",
      "class LinkPost(Post):\n",
      "    link_url = StringField()"
     ],
     "language": "python",
     "metadata": {},
     "outputs": [],
     "prompt_number": 14
    },
    {
     "cell_type": "markdown",
     "metadata": {
      "slideshow": {
       "slide_type": "fragment"
      }
     },
     "source": [
      "* stored in a single collection: `post`\n",
      "* only stores the relevant fields"
     ]
    },
    {
     "cell_type": "markdown",
     "metadata": {
      "slideshow": {
       "slide_type": "fragment"
      }
     },
     "source": [
      "... because it's schemaless, remember?"
     ]
    },
    {
     "cell_type": "markdown",
     "metadata": {
      "slideshow": {
       "slide_type": "slide"
      }
     },
     "source": [
      "## Create\n",
      "\n",
      "*use kwargs only*"
     ]
    },
    {
     "cell_type": "code",
     "collapsed": false,
     "input": [
      "gpug = User(name='gpug').save()\n",
      "gpug"
     ],
     "language": "python",
     "metadata": {},
     "outputs": [
      {
       "metadata": {},
       "output_type": "pyout",
       "prompt_number": 15,
       "text": [
        "<User: User object>"
       ]
      }
     ],
     "prompt_number": 15
    },
    {
     "cell_type": "markdown",
     "metadata": {
      "slideshow": {
       "slide_type": "slide"
      }
     },
     "source": [
      "## Create\n",
      "\n",
      "*sub-class using kwargs and attributes*"
     ]
    },
    {
     "cell_type": "code",
     "collapsed": true,
     "input": [
      "post1 = TextPost(title=u'Hello world!',\n",
      "                 author=gpug)\n",
      "post1.content = u'GPUG lives!'\n",
      "post1.tags = [u'hello', u'gpug']\n",
      "post1.save()"
     ],
     "language": "python",
     "metadata": {},
     "outputs": [
      {
       "metadata": {},
       "output_type": "pyout",
       "prompt_number": 16,
       "text": [
        "<TextPost: TextPost object>"
       ]
      }
     ],
     "prompt_number": 16
    },
    {
     "cell_type": "markdown",
     "metadata": {
      "slideshow": {
       "slide_type": "slide"
      }
     },
     "source": [
      "## Create\n",
      "\n",
      "*different sub-class, but same collection*"
     ]
    },
    {
     "cell_type": "code",
     "collapsed": true,
     "input": [
      "post2 = LinkPost(author=gpug)\n",
      "post2.title = u'Home page'\n",
      "post2.link_url = u'https://gautengpug.github.io/'\n",
      "post2.tags = [u'links', u'gpug']\n",
      "post2.save()"
     ],
     "language": "python",
     "metadata": {},
     "outputs": [
      {
       "metadata": {},
       "output_type": "pyout",
       "prompt_number": 17,
       "text": [
        "<LinkPost: LinkPost object>"
       ]
      }
     ],
     "prompt_number": 17
    },
    {
     "cell_type": "markdown",
     "metadata": {
      "slideshow": {
       "slide_type": "slide"
      }
     },
     "source": [
      "## Read\n",
      "\n",
      "*all posts*"
     ]
    },
    {
     "cell_type": "code",
     "collapsed": false,
     "input": [
      "for post in Post.objects:\n",
      "    print '->', post.title"
     ],
     "language": "python",
     "metadata": {},
     "outputs": [
      {
       "output_type": "stream",
       "stream": "stdout",
       "text": [
        "-> Home page\n",
        "-> Hello world!\n"
       ]
      }
     ],
     "prompt_number": 18
    },
    {
     "cell_type": "markdown",
     "metadata": {
      "slideshow": {
       "slide_type": "fragment"
      }
     },
     "source": [
      "* access docs via `DocClass.objects`"
     ]
    },
    {
     "cell_type": "markdown",
     "metadata": {
      "slideshow": {
       "slide_type": "slide"
      }
     },
     "source": [
      "## Read\n",
      "\n",
      "*first link post's url*"
     ]
    },
    {
     "cell_type": "code",
     "collapsed": false,
     "input": [
      "print LinkPost.objects.first().link_url"
     ],
     "language": "python",
     "metadata": {},
     "outputs": [
      {
       "output_type": "stream",
       "stream": "stdout",
       "text": [
        "https://gautengpug.github.io/\n"
       ]
      }
     ],
     "prompt_number": 19
    },
    {
     "cell_type": "markdown",
     "metadata": {
      "slideshow": {
       "slide_type": "fragment"
      }
     },
     "source": [
      "* only text posts are searched\n",
      "* `objects.first()` => `collection.find_one()`"
     ]
    },
    {
     "cell_type": "markdown",
     "metadata": {
      "slideshow": {
       "slide_type": "slide"
      }
     },
     "source": [
      "## Read\n",
      "\n",
      "*titles of all posts with a \"`gpug`\" tag*"
     ]
    },
    {
     "cell_type": "code",
     "collapsed": false,
     "input": [
      "[post.title for post in\n",
      " Post.objects(tags=u'gpug')]"
     ],
     "language": "python",
     "metadata": {},
     "outputs": [
      {
       "metadata": {},
       "output_type": "pyout",
       "prompt_number": 20,
       "text": [
        "[u'Home page', u'Hello world!']"
       ]
      }
     ],
     "prompt_number": 20
    },
    {
     "cell_type": "markdown",
     "metadata": {
      "slideshow": {
       "slide_type": "fragment"
      }
     },
     "source": [
      "* filter with `.objects(attr=value)`\n",
      "* searching for an item in a list is as easy as searching for the value"
     ]
    },
    {
     "cell_type": "markdown",
     "metadata": {
      "slideshow": {
       "slide_type": "slide"
      }
     },
     "source": [
      "## Update\n",
      "\n",
      "*change title and add tag*"
     ]
    },
    {
     "cell_type": "code",
     "collapsed": false,
     "input": [
      "post2.title = u'GitHub Home Page'\n",
      "post2.tags.append(u'github')\n",
      "post2.save()\n",
      "\n",
      "post2.tags"
     ],
     "language": "python",
     "metadata": {},
     "outputs": [
      {
       "metadata": {},
       "output_type": "pyout",
       "prompt_number": 21,
       "text": [
        "[u'links', u'gpug', u'github']"
       ]
      }
     ],
     "prompt_number": 21
    },
    {
     "cell_type": "markdown",
     "metadata": {
      "slideshow": {
       "slide_type": "fragment"
      }
     },
     "source": [
      "![](res/img/change_save.jpg)"
     ]
    },
    {
     "cell_type": "markdown",
     "metadata": {
      "slideshow": {
       "slide_type": "slide"
      }
     },
     "source": [
      "## Delete"
     ]
    },
    {
     "cell_type": "code",
     "collapsed": false,
     "input": [
      "post2.delete()"
     ],
     "language": "python",
     "metadata": {},
     "outputs": [],
     "prompt_number": 22
    },
    {
     "cell_type": "markdown",
     "metadata": {
      "slideshow": {
       "slide_type": "fragment"
      }
     },
     "source": [
      "O_O"
     ]
    },
    {
     "cell_type": "markdown",
     "metadata": {
      "slideshow": {
       "slide_type": "slide"
      }
     },
     "source": [
      "# That's it!\n",
      "\n",
      "was that easy, or what?"
     ]
    },
    {
     "cell_type": "markdown",
     "metadata": {
      "slideshow": {
       "slide_type": "slide"
      }
     },
     "source": [
      "# What *didn't* we cover?\n",
      "\n",
      "  +  ~~document-oriented storage~~\n",
      "  +  ~~querying~~\n",
      "  +  ~~fast in-place updates~~\n",
      "  +  map/reduce and aggregation\n",
      "  +  full index support\n",
      "  +  replication & high availability\n",
      "  +  auto-sharding\n",
      "  +  gridfs\n",
      "  +  mongodb management service"
     ]
    },
    {
     "cell_type": "markdown",
     "metadata": {
      "slideshow": {
       "slide_type": "slide"
      }
     },
     "source": [
      "in a word: *LOTS*"
     ]
    },
    {
     "cell_type": "markdown",
     "metadata": {
      "slideshow": {
       "slide_type": "fragment"
      }
     },
     "source": [
      "... but this is only an intro"
     ]
    },
    {
     "cell_type": "markdown",
     "metadata": {
      "slideshow": {
       "slide_type": "slide"
      }
     },
     "source": [
      "# *fin*"
     ]
    }
   ],
   "metadata": {}
  }
 ]
}